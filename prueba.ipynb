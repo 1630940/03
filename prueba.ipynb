{
  "nbformat": 4,
  "nbformat_minor": 0,
  "metadata": {
    "colab": {
      "provenance": [],
      "authorship_tag": "ABX9TyNQ5I3o1hbfALv0jz/FL6O6",
      "include_colab_link": true
    },
    "kernelspec": {
      "name": "python3",
      "display_name": "Python 3"
    },
    "language_info": {
      "name": "python"
    }
  },
  "cells": [
    {
      "cell_type": "markdown",
      "metadata": {
        "id": "view-in-github",
        "colab_type": "text"
      },
      "source": [
        "<a href=\"https://colab.research.google.com/github/1630940/03/blob/master/prueba.ipynb\" target=\"_parent\"><img src=\"https://colab.research.google.com/assets/colab-badge.svg\" alt=\"Open In Colab\"/></a>"
      ]
    },
    {
      "cell_type": "code",
      "execution_count": 1,
      "metadata": {
        "colab": {
          "base_uri": "https://localhost:8080/"
        },
        "id": "G9QUapQ8kuMo",
        "outputId": "510dd37c-bb6c-4065-84e6-0a2a70dd9fe0"
      },
      "outputs": [
        {
          "output_type": "stream",
          "name": "stdout",
          "text": [
            "Wed Nov 23 18:02:57 2022\n"
          ]
        }
      ],
      "source": [
        "import time\n",
        "print(time.ctime())"
      ]
    },
    {
      "cell_type": "code",
      "source": [
        "# Importar Librerias, matplotlib, numpy, pandas, seaborn, sklearn(linear_model, model_selection, metrics)\n",
        "import matplotlib.pyplot as plt\n",
        "%matplotlib inline\n",
        "import numpy as np\n",
        "import pandas as pd\n",
        "import seaborn as sns\n",
        "from sklearn.linear_model import LinearRegression\n",
        "from sklearn.model_selection import train_test_split\n",
        "from sklearn.metrics import mean_squared_error"
      ],
      "metadata": {
        "id": "oS1m5OWUpBmW"
      },
      "execution_count": 2,
      "outputs": []
    },
    {
      "cell_type": "code",
      "source": [
        "# Semilla random || random.seed || random.uniform\n",
        "np.random.seed(101)\n",
        "# X y Y\n",
        "# Vamos a crear 50 valores aleatorios\n",
        "x = np.linspace(0,50,50)\n",
        "y = np.linspace(0,50,50)\n",
        "\n",
        "x += np.random.uniform(-4,4,50)\n",
        "y += np.random.uniform(-4,4,50)"
      ],
      "metadata": {
        "id": "df851LlllgGp"
      },
      "execution_count": null,
      "outputs": []
    },
    {
      "cell_type": "code",
      "source": [
        "# Mostraremos la data dispersa || scatter \n",
        "plt.scatter(x,y)\n",
        "plt.xlabel('x')\n",
        "plt.ylabel('y')\n",
        "plt.title('Data Dispersa')"
      ],
      "metadata": {
        "id": "zuFiTwREqRs5"
      },
      "execution_count": null,
      "outputs": []
    },
    {
      "cell_type": "code",
      "source": [
        "# Caracteristica\n",
        "x[0]"
      ],
      "metadata": {
        "id": "lgSOxbXtqW0Z"
      },
      "execution_count": null,
      "outputs": []
    },
    {
      "cell_type": "code",
      "source": [
        "# Valor real\n",
        "y[0]"
      ],
      "metadata": {
        "id": "pUu1xeqXqYja"
      },
      "execution_count": null,
      "outputs": []
    },
    {
      "cell_type": "code",
      "source": [
        "# Linear Regression || fit the model\n",
        "model = LinearRegression()\n",
        "model.fit(x.reshape(-1,1),y)"
      ],
      "metadata": {
        "id": "ACoR4Fm4qbuJ"
      },
      "execution_count": null,
      "outputs": []
    },
    {
      "cell_type": "code",
      "source": [
        "# Rsquared\n",
        "model.score(x.reshape(-1,1),y)"
      ],
      "metadata": {
        "id": "WqO4nTp7qccw"
      },
      "execution_count": null,
      "outputs": []
    },
    {
      "cell_type": "code",
      "source": [
        "# Predicciones\n",
        "y_pred = model.predict(x.reshape(-1,1))"
      ],
      "metadata": {
        "id": "9-Y8qMp-qe9t"
      },
      "execution_count": null,
      "outputs": []
    },
    {
      "cell_type": "code",
      "source": [
        "y_pred"
      ],
      "metadata": {
        "id": "Q1IblTGNqjPi"
      },
      "execution_count": null,
      "outputs": []
    },
    {
      "cell_type": "code",
      "source": [
        "# Evaluation metric || RMSE\n",
        "RMSE = np.sqrt(mean_squared_error(y_pred,y))\n",
        "RMSE"
      ],
      "metadata": {
        "id": "Hk4_TbcPqj1o"
      },
      "execution_count": null,
      "outputs": []
    },
    {
      "cell_type": "code",
      "source": [
        "# Plotear la linea xd || plot x,y || plot x, predict || label || legend\n",
        "plt.plot(x,y,'o',label='Valores reales')\n",
        "plt.plot(x,y_pred,label='Regresion Lineal')\n",
        "plt.xlabel('x')\n",
        "plt.ylabel('y')\n",
        "plt.legend()\n",
        "plt.title('Linear Regression Fitted')"
      ],
      "metadata": {
        "id": "pGcvzOHtqngV"
      },
      "execution_count": null,
      "outputs": []
    },
    {
      "cell_type": "code",
      "source": [
        "# Advertising csv\n",
        "# path ../input/advertising.csv/Advertising.csv\n",
        "Advertising = pd.read_csv('../input/advertising.csv/Advertising.csv')"
      ],
      "metadata": {
        "id": "rxAgZf6zqqUI"
      },
      "execution_count": null,
      "outputs": []
    },
    {
      "cell_type": "code",
      "source": [
        "# shape\n",
        "Advertising.shape"
      ],
      "metadata": {
        "id": "gur1ZiD9qt29"
      },
      "execution_count": null,
      "outputs": []
    },
    {
      "cell_type": "code",
      "source": [
        "# Entender los datos\n",
        "Advertising.head()"
      ],
      "metadata": {
        "id": "e8PSR8VQqucZ"
      },
      "execution_count": null,
      "outputs": []
    },
    {
      "cell_type": "code",
      "source": [
        "# Visualizar data || pairplot(df,x_vars,y_vars,size,aspect)\n",
        "sns.pairplot(Advertising,x_vars=['TV','radio','newspaper'],y_vars=['sales'],size=5,aspect=1)"
      ],
      "metadata": {
        "id": "oAPEsW9YqwHt"
      },
      "execution_count": null,
      "outputs": []
    },
    {
      "cell_type": "code",
      "source": [
        "# Matriz de calor || corr() || plt.figure || heatmat(m,annot,cmap)\n",
        "m = Advertising.loc[:,'TV':].corr()\n",
        "plt.figure(figsize=(10,10))\n",
        "sns.heatmap(m,annot=True,cmap='Reds')"
      ],
      "metadata": {
        "id": "d9HBRrJnqyIp"
      },
      "execution_count": null,
      "outputs": []
    },
    {
      "cell_type": "code",
      "source": [
        "# Split the data || x, y, test_size, randomstate 42\n",
        "X_train, X_test, Y_train, Y_test = train_test_split(Advertising.loc[:,['TV','radio']],Advertising.loc[:,'sales'],test_size=0.2,random_state=42)"
      ],
      "metadata": {
        "id": "q7YjoQGWq3Np"
      },
      "execution_count": null,
      "outputs": []
    },
    {
      "cell_type": "code",
      "source": [
        "# Iniciar el modelo\n",
        "model_2 = LinearRegression()\n",
        "# Ajustar el modelo\n",
        "model_2.fit(X_train,Y_train)"
      ],
      "metadata": {
        "id": "MQh2cN9rq4AU"
      },
      "execution_count": null,
      "outputs": []
    },
    {
      "cell_type": "code",
      "source": [
        "# Rsquared\n",
        "model_2.score(X_test,Y_test)"
      ],
      "metadata": {
        "id": "RlPI6S1Dq629"
      },
      "execution_count": null,
      "outputs": []
    },
    {
      "cell_type": "code",
      "source": [
        "# Predict test\n",
        "Y_pred = model_2.predict(X_test)"
      ],
      "metadata": {
        "id": "TV8BLtskq9G7"
      },
      "execution_count": null,
      "outputs": []
    },
    {
      "cell_type": "code",
      "source": [
        "# RMSE test\n",
        "RMSE = np.sqrt(mean_squared_error(Y_pred,Y_test))\n",
        "RMSE"
      ],
      "metadata": {
        "id": "TBuTNrq0q_XN"
      },
      "execution_count": null,
      "outputs": []
    },
    {
      "cell_type": "code",
      "source": [
        "model_2.predict([[250.1,10.]])"
      ],
      "metadata": {
        "id": "0yo38WC8rBPV"
      },
      "execution_count": null,
      "outputs": []
    }
  ]
}